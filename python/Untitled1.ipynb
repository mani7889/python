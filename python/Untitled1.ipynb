{
 "cells": [
  {
   "cell_type": "code",
   "execution_count": 23,
   "id": "f589f256",
   "metadata": {},
   "outputs": [
    {
     "name": "stdout",
     "output_type": "stream",
     "text": [
      "enter score:0.66\n",
      "grade D\n"
     ]
    }
   ],
   "source": [
    "def computegrade(score):\n",
    "    if score>=0.9 and score<=1.0:\n",
    "        print('grade A')\n",
    "    elif score>=0.8 and score<0.9:\n",
    "        print('grade B')\n",
    "    elif score>=0.7 and score<0.8:\n",
    "        print('grade C')\n",
    "    elif score>=0.6 and score<0.7:\n",
    "        print('grade D')\n",
    "    elif score>=0.1 and score<0.6:\n",
    "        print('grade F')\n",
    "    else:\n",
    "        print('Bad score')\n",
    "x=input(\"enter score:\")\n",
    "try:\n",
    "    y=float(x)\n",
    "    computegrade(y)\n",
    "except:\n",
    "    print(\"bad score\")\n",
    "    \n",
    "        "
   ]
  },
  {
   "cell_type": "code",
   "execution_count": 24,
   "id": "9682e939",
   "metadata": {},
   "outputs": [
    {
     "name": "stdout",
     "output_type": "stream",
     "text": [
      "Enter Score: per score\n",
      "bad score\n"
     ]
    }
   ],
   "source": [
    "score = input(\"Enter Score: \")\n",
    "try:\n",
    "    sc=float(score)\n",
    "    if sc>=0.9 and sc<=1.0:\n",
    "        print('A')\n",
    "    elif sc<0.9 and sc>=0.8:\n",
    "        print('B')\n",
    "    elif sc<0.8 and sc>=0.7:\n",
    "        print('C')\n",
    "    elif sc<0.7 and sc>=0.6:\n",
    "        print('D')\n",
    "    elif sc<0.6 and sc>=0.0:\n",
    "        print('F')\n",
    "    else:\n",
    "        print('error')\n",
    "except:\n",
    "    print(\"bad score\")\n",
    "        "
   ]
  },
  {
   "cell_type": "code",
   "execution_count": null,
   "id": "38cbe7e6",
   "metadata": {},
   "outputs": [],
   "source": []
  },
  {
   "cell_type": "code",
   "execution_count": null,
   "id": "b55f306c",
   "metadata": {},
   "outputs": [],
   "source": []
  },
  {
   "cell_type": "code",
   "execution_count": null,
   "id": "ec44dfaf",
   "metadata": {},
   "outputs": [],
   "source": []
  }
 ],
 "metadata": {
  "kernelspec": {
   "display_name": "Python 3 (ipykernel)",
   "language": "python",
   "name": "python3"
  },
  "language_info": {
   "codemirror_mode": {
    "name": "ipython",
    "version": 3
   },
   "file_extension": ".py",
   "mimetype": "text/x-python",
   "name": "python",
   "nbconvert_exporter": "python",
   "pygments_lexer": "ipython3",
   "version": "3.9.12"
  }
 },
 "nbformat": 4,
 "nbformat_minor": 5
}
