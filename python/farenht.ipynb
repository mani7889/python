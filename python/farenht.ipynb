{
 "cells": [
  {
   "cell_type": "code",
   "execution_count": 8,
   "id": "32bae778-bb69-4786-b594-8c86729aa6f2",
   "metadata": {},
   "outputs": [
    {
     "name": "stdout",
     "output_type": "stream",
     "text": [
      "i am lumberjack\n",
      "i am okay\n",
      "i am lumberjack\n",
      "i am okay\n"
     ]
    }
   ],
   "source": [
    "r_l()\n",
    "def p_l():\n",
    "    print('i am lumberjack')\n",
    "    print('i am okay')\n",
    "    \n",
    "def r_l():\n",
    "    p_l()\n",
    "    p_l()"
   ]
  },
  {
   "cell_type": "code",
   "execution_count": 9,
   "id": "d34ffd7a",
   "metadata": {},
   "outputs": [
    {
     "name": "stdout",
     "output_type": "stream",
     "text": [
      "i am lumberjack\n",
      "i am okay\n",
      "i am lumberjack\n",
      "i am okay\n"
     ]
    }
   ],
   "source": [
    "\n",
    "\n",
    "    \n",
    "def r_l():\n",
    "    p_l()\n",
    "    p_l()\n",
    "def p_l():\n",
    "    print('i am lumberjack')\n",
    "    print('i am okay')\n",
    "r_l()"
   ]
  },
  {
   "cell_type": "code",
   "execution_count": 10,
   "id": "3c5f9d58",
   "metadata": {},
   "outputs": [
    {
     "name": "stdout",
     "output_type": "stream",
     "text": [
      "i am lumberjack\n",
      "i am okay\n",
      "i am lumberjack\n",
      "i am okay\n"
     ]
    }
   ],
   "source": [
    "def r_l():\n",
    "    p_l()\n",
    "    p_l()\n",
    "def p_l():\n",
    "    print('i am lumberjack')\n",
    "    print('i am okay')\n",
    "r_l()"
   ]
  },
  {
   "cell_type": "code",
   "execution_count": 11,
   "id": "0bca2e3f",
   "metadata": {},
   "outputs": [
    {
     "name": "stdout",
     "output_type": "stream",
     "text": [
      "Hello\n"
     ]
    }
   ],
   "source": [
    "def stuff():\n",
    "    print('Hello')\n",
    "    return\n",
    "    print('World')\n",
    "\n",
    "stuff()"
   ]
  },
  {
   "cell_type": "code",
   "execution_count": null,
   "id": "1b0fcd20",
   "metadata": {},
   "outputs": [],
   "source": []
  }
 ],
 "metadata": {
  "kernelspec": {
   "display_name": "Python 3 (ipykernel)",
   "language": "python",
   "name": "python3"
  },
  "language_info": {
   "codemirror_mode": {
    "name": "ipython",
    "version": 3
   },
   "file_extension": ".py",
   "mimetype": "text/x-python",
   "name": "python",
   "nbconvert_exporter": "python",
   "pygments_lexer": "ipython3",
   "version": "3.9.12"
  }
 },
 "nbformat": 4,
 "nbformat_minor": 5
}
